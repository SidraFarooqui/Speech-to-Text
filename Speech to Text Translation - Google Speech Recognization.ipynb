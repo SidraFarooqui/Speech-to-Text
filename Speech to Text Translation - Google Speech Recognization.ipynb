{
 "cells": [
  {
   "cell_type": "code",
   "execution_count": 12,
   "id": "384ac62a",
   "metadata": {},
   "outputs": [
    {
     "name": "stdout",
     "output_type": "stream",
     "text": [
      "Requirement already satisfied: speechrecognition in d:\\anaconda\\lib\\site-packages (3.8.1)\n",
      "Requirement already satisfied: pyaudio in d:\\anaconda\\lib\\site-packages (0.2.12)\n",
      "Requirement already satisfied: pyttsx3 in d:\\anaconda\\lib\\site-packages (2.90)\n",
      "Requirement already satisfied: pywin32 in d:\\anaconda\\lib\\site-packages (from pyttsx3) (228)\n",
      "Requirement already satisfied: comtypes in d:\\anaconda\\lib\\site-packages (from pyttsx3) (1.1.10)\n",
      "Requirement already satisfied: pypiwin32 in d:\\anaconda\\lib\\site-packages (from pyttsx3) (223)\n",
      "Requirement already satisfied: pyaudio in d:\\anaconda\\lib\\site-packages (0.2.12)\n"
     ]
    }
   ],
   "source": [
    "!pip install speechrecognition\n",
    "!pip install pyaudio\n",
    "!pip install pyttsx3\n",
    "!pip install pyaudio"
   ]
  },
  {
   "cell_type": "code",
   "execution_count": 13,
   "id": "118cba47",
   "metadata": {},
   "outputs": [],
   "source": [
    "import speech_recognition as sr\n",
    "import pyttsx3"
   ]
  },
  {
   "cell_type": "code",
   "execution_count": 14,
   "id": "65bff74b",
   "metadata": {},
   "outputs": [],
   "source": [
    "#converting text to speech\n",
    "\n",
    "def SpeakText(command):\n",
    "    engine = pyttsx3.init()\n",
    "    engine.say(command)\n",
    "    engine.runAndWait()"
   ]
  },
  {
   "cell_type": "code",
   "execution_count": null,
   "id": "cb175b7b",
   "metadata": {},
   "outputs": [
    {
     "name": "stdout",
     "output_type": "stream",
     "text": [
      "Pls speak\n",
      "Pls speak\n",
      "Pls speak\n",
      "Pls speak\n",
      "Could not request results; recognition request failed: Bad Request\n",
      "Pls speak\n",
      "Pls speak\n",
      "Pls speak\n",
      "Pls speak\n",
      "Pls speak\n",
      "Pls speak\n"
     ]
    }
   ],
   "source": [
    "r = sr.Recognizer() #initialize the recognizer\n",
    "\n",
    "while(1):\n",
    "    try:\n",
    "        with sr.Microphone() as source2: #use mic as src for input\n",
    "\n",
    "            #ajustment of surr noise use func after +-0.2s\n",
    "            r.adjust_for_ambient_noise(source2, duration = 0.2)\n",
    "\n",
    "            #to listen to user inpt (src)\n",
    "            audio2 = r.listen(source2)\n",
    "\n",
    "            #use google service to recog voice and store in mytext\n",
    "            Mytext = r.recognize_google(audio2) \n",
    "\n",
    "            Mytext= Mytext.lower()\n",
    "            print(Mytext)\n",
    "            SpeakText(Mytext)\n",
    "    except sr.RequestError as e:  \n",
    "        print(\"Could not request results; {0}\". format(e))\n",
    "        \n",
    "    except sr.UnknownValueError:\n",
    "        print(\"Please speak\") "
   ]
  },
  {
   "cell_type": "code",
   "execution_count": null,
   "id": "dfd0cb78",
   "metadata": {},
   "outputs": [],
   "source": []
  },
  {
   "cell_type": "code",
   "execution_count": null,
   "id": "c087a76c",
   "metadata": {},
   "outputs": [],
   "source": []
  }
 ],
 "metadata": {
  "kernelspec": {
   "display_name": "Python 3 (ipykernel)",
   "language": "python",
   "name": "python3"
  },
  "language_info": {
   "codemirror_mode": {
    "name": "ipython",
    "version": 3
   },
   "file_extension": ".py",
   "mimetype": "text/x-python",
   "name": "python",
   "nbconvert_exporter": "python",
   "pygments_lexer": "ipython3",
   "version": "3.9.7"
  }
 },
 "nbformat": 4,
 "nbformat_minor": 5
}
